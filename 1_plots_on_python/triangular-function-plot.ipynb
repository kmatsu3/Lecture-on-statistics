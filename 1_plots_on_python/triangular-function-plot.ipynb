{
 "cells": [
  {
   "cell_type": "code",
   "execution_count": 28,
   "metadata": {
    "collapsed": false
   },
   "outputs": [],
   "source": [
    "import matplotlib.pyplot as plt\n",
    "import numpy as np \n",
    "\n",
    "x = np.linspace(-2*np.pi, 2*np.pi, 256, endpoint=True)\n",
    "cosplot, sinplot, tanplot = np.cos(x), np.sin(x), np.tan(x)\n",
    " \n",
    "plt.title('triangular functions plot')\n",
    "plt.xlabel('x')\n",
    "plt.ylabel('cos(x)/sin(x)/tan(x)')\n",
    "plt.xlim(-2*np.pi,2*np.pi)    \n",
    "plt.ylim(-1.4,1.4)    \n",
    "plt.yticks(np.linspace(-1, 1, 5, endpoint=True))\n",
    "plt.xticks([-2*np.pi,-3*np.pi/2, -np.pi, -np.pi/2, 0, np.pi/2, np.pi,3*np.pi/2,2*np.pi],\n",
    "          [r'$-2\\pi$', r'$-3\\pi/2$', r'$-\\pi$', r'$-\\pi/2$', r'$0$', r'$+\\pi/2$', r'$+\\pi$', r'$3\\pi/2$', r'$2\\pi$'])\n",
    "plt.grid(True)\n",
    " \n",
    "plt.plot(x, cosplot, color=\"black\", linewidth=3.0, linestyle=\"solid\", label=\"cos(x)\")\n",
    "plt.plot(x, sinplot, color=\"red\", linewidth=3.0, linestyle=\"dashed\", label=\"sin(x)\")\n",
    "plt.plot(x, tanplot, color=\"blue\", linewidth=3.0, linestyle=\"dotted\", label=\"tan(x)\")\n",
    "plt.legend(loc='lower right')\n",
    "plt.show()\n",
    "plt.savefig(\"triangular-function-plot.png\", dpi=72)\n"
   ]
  },
  {
   "cell_type": "code",
   "execution_count": null,
   "metadata": {
    "collapsed": true
   },
   "outputs": [],
   "source": []
  }
 ],
 "metadata": {
  "kernelspec": {
   "display_name": "Python 3",
   "language": "python",
   "name": "python3"
  },
  "language_info": {
   "codemirror_mode": {
    "name": "ipython",
    "version": 3
   },
   "file_extension": ".py",
   "mimetype": "text/x-python",
   "name": "python",
   "nbconvert_exporter": "python",
   "pygments_lexer": "ipython3",
   "version": "3.5.1"
  }
 },
 "nbformat": 4,
 "nbformat_minor": 0
}
