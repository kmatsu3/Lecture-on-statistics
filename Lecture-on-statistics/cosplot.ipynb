{
 "cells": [
  {
   "cell_type": "code",
   "execution_count": 11,
   "metadata": {
    "collapsed": false
   },
   "outputs": [],
   "source": [
    "import matplotlib.pyplot as plt\n",
    "import numpy as np \n",
    "\n",
    "array_1 = np.arange(0, 4, 0.1)\n",
    "array_2 = np.cos(array_1*np.pi)\n",
    " \n",
    "plt.title('test plot')\n",
    "plt.xlabel('array_1')\n",
    "plt.ylabel('array_2')\n",
    "plt.xlim(0,4)    \n",
    "plt.grid(True)\n",
    " \n",
    "plt.plot(array_1,array_2)\n",
    "plt.show()\n"
   ]
  }
 ],
 "metadata": {
  "kernelspec": {
   "display_name": "Python 3",
   "language": "python",
   "name": "python3"
  },
  "language_info": {
   "codemirror_mode": {
    "name": "ipython",
    "version": 3
   },
   "file_extension": ".py",
   "mimetype": "text/x-python",
   "name": "python",
   "nbconvert_exporter": "python",
   "pygments_lexer": "ipython3",
   "version": "3.5.1"
  }
 },
 "nbformat": 4,
 "nbformat_minor": 0
}
